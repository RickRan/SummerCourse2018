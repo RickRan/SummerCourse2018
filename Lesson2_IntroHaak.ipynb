{
 "cells": [
  {
   "cell_type": "markdown",
   "metadata": {},
   "source": [
    "## Lesson 2: Introducing the Course\n",
    "\n",
    "This notebook is associated with the corresponding powerpoint. Remember that ```%%bash``` allows you to write Unix commands directly into the notebook cell. "
   ]
  },
  {
   "cell_type": "code",
   "execution_count": 2,
   "metadata": {},
   "outputs": [
    {
     "name": "stdout",
     "output_type": "stream",
     "text": [
      "/public/adna/mel_yang/summer2018/notebooks\n"
     ]
    }
   ],
   "source": [
    "%%bash\n",
    "pwd"
   ]
  },
  {
   "cell_type": "markdown",
   "metadata": {},
   "source": [
    "Below, we set the directory of interest to a variable name, and we use \"${var}\" to indicate the variable we want to use. "
   ]
  },
  {
   "cell_type": "code",
   "execution_count": 2,
   "metadata": {},
   "outputs": [
    {
     "name": "stdout",
     "output_type": "stream",
     "text": [
      "data.eigen.altered.ind\n",
      "data.eigen.geno\n",
      "data.eigen.ind\n",
      "data.eigen.par\n",
      "data.eigen.snp\n",
      "data.eigen.transi.snp\n",
      "data.geno\n",
      "data.ind\n",
      "data.pops\n",
      "data.snp\n",
      "README\n",
      "student.fastq\n"
     ]
    }
   ],
   "source": [
    "%%bash\n",
    "pd=\"/public/adna/student/data/\"\n",
    "ls ${pd}"
   ]
  },
  {
   "cell_type": "markdown",
   "metadata": {},
   "source": [
    "Using the geno file in PACKEDANCESTRYMAP format, we get nonsensical results when we try to check what's in the file. This is because the file is written in binary code. We used \"convertf -p data.eigen.par\" to convert PACKEDANCESTRYMAP to EIGENSTRAT format, which has the human readable version of the GENO file. "
   ]
  },
  {
   "cell_type": "code",
   "execution_count": 3,
   "metadata": {},
   "outputs": [
    {
     "name": "stdout",
     "output_type": "stream",
     "text": [
      "GENO    2071  354212 edcbe851 aa9b2ac9\u0000\u0000\u0000\u0000\u0000\u0000\u0000\u0000\u0000\u0000\u0000\u0000\u0000\u0000\u0000\u0000\u0000\u0000\u0000\u0000\u0000\u0000\u0000\u0000\u0000\u0000\u0000\u0000\u0000\u0000\u0000\u0000\u0000\u0000\u0000\u0000\u0000\u0000\u0000\u0000\u0000\u0000\u0000\u0000\u0000\u0000\u0000\u0000\u0000\u0000\u0000\u0000\u0000\u0000\u0000\u0000\u0000\u0000\u0000\u0000\u0000\u0000\u0000\u0000\u0000\u0000\u0000\u0000\u0000\u0000\u0000\u0000\u0000\u0000\u0000\u0000\u0000\u0000\u0000\u0000\u0000\u0000\u0000\u0000\u0000\u0000\u0000\u0000\u0000\u0000\u0000\u0000\u0000\u0000\u0000\u0000\u0000\u0000\u0000\u0000\u0000\u0000\u0000\u0000\u0000\u0000\u0000\u0000\u0000\u0000\u0000\u0000\u0000\u0000\u0000\u0000\u0000\u0000\u0000\u0000\u0000\u0000\u0000\u0000\u0000\u0000\u0000\u0000\u0000\u0000\u0000\u0000\u0000\u0000\u0000\u0000\u0000\u0000\u0000\u0000\u0000\u0000\u0000\u0000\u0000\u0000\u0000\u0000\u0000\u0000\u0000\u0000\u0000\u0000\u0000\u0000\u0000\u0000\u0000\u0000\u0000\u0000\u0000\u0000\u0000\u0000\u0000\u0000\u0000\u0000\u0000\u0000\u0000\u0000\u0000\u0000\u0000\u0000\u0000\u0000\u0000\u0000\u0000\u0000\u0000\u0000\u0000\u0000\u0000\u0000\u0000\u0000\u0000\u0000\u0000\u0000\u0000\u0000\u0000\u0000\u0000\u0000\u0000\u0000\u0000\u0000\u0000\u0000\u0000\u0000\u0000\u0000\u0000\u0000\u0000\u0000\u0000\u0000\u0000\u0000\u0000\u0000\u0000\u0000\u0000\u0000\u0000\u0000\u0000\u0000\u0000\u0000\u0000\u0000\u0000\u0000\u0000\u0000\u0000\u0000\u0000\u0000\u0000\u0000\u0000\u0000\u0000\u0000\u0000\u0000\u0000\u0000\u0000\u0000\u0000\u0000\u0000\u0000\u0000\u0000\u0000\u0000\u0000\u0000\u0000\u0000\u0000\u0000\u0000\u0000\u0000\u0000\u0000\u0000\u0000\u0000\u0000\u0000\u0000\u0000\u0000\u0000\u0000\u0000\u0000\u0000\u0000\u0000\u0000\u0000\u0000\u0000\u0000\u0000\u0000\u0000\u0000\u0000\u0000\u0000\u0000\u0000\u0000\u0000\u0000\u0000\u0000\u0000\u0000\u0000\u0000\u0000\u0000\u0000\u0000\u0000\u0000\u0000\u0000\u0000\u0000\u0000\u0000\u0000\u0000\u0000\u0000\u0000\u0000\u0000\u0000\u0000\u0000\u0000\u0000\u0000\u0000\u0000\u0000\u0000\u0000\u0000\u0000\u0000\u0000\u0000\u0000\u0000\u0000\u0000\u0000\u0000\u0000\u0000\u0000\u0000\u0000\u0000\u0000\u0000\u0000\u0000\u0000\u0000\u0000\u0000\u0000\u0000\u0000\u0000\u0000\u0000\u0000\u0000\u0000\u0000\u0000\u0000\u0000\u0000\u0000\u0000\u0000\u0000\u0000\u0000\u0000\u0000\u0000\u0000\u0000\u0000\u0000\u0000\u0000\u0000\u0000\u0000\u0000\u0000\u0000\u0000\u0000\u0000\u0000\u0000\u0000\u0000\u0000\u0000\u0000\u0000\u0000\u0000\u0000\u0000\u0000\u0000\u0000\u0000\u0000\u0000\u0000\u0000\u0000\u0000\u0000\u0000\u0000\u0000\u0000\u0000\u0000\u0000\u0000\u0000\u0000\u0000\u0000\u0000\u0000\u0000\u0000\u0000\u0000\u0000\u0000\u0000\u0000\u0000\u0000\u0000\u0000\u0000\u0000\u0000\u0000\u0000\u0000\u0000\u0000\u0000\u0000\u0000\u0000\u0000\u0000\u0000\u0000\u0000\u0000\u0000\u0000\u0000\u0000\u0000\u0000\u0000\u0000\u0000U\u0014\u0011A�)\u0014bh\u0010\u0014�\u0000P@�\u0011E\u0001P\u0007UD\u0015\b\u0014T\u0005@\u0014Q$P@T\u0000D\u0011@\u0001\u0006A\u0014]\u0001T�\u0015@@\u0014\u0015D\bF�\u0004P@@D\u0000\u0000\u0014\u0015RY�f�@\u0005P\u0011\u0001�\u0010\u0001\u0010\u0000\u0014\u0001�\u0000B\u0010QT\u0001PQ\u0000�5\u0014\t@�DP\u0001\u0000\u0000P\u0000Qq\u0010\u0010T\u0000\u0000\u0000P\u0007\u0014\u0001D\u0002\u0000@\u0014\u0001@\u0000\u0010\u0004\u0000\u0003@\u0000\u0000\u0014\u0000P\u0000\u0004\u0019\u0001\u0010 E\u0000\u0000A\u0015T��Yb��X\u0004\u0010@\u0001\u0000\u0000\u0006E\u0011\u0000@@\u0000\u00045URj�\u0000\u0000P\u0000E\u0000\u0000\u0010\u0000P\u0000@�\u0000�\u0005\u0000\u0006�\u0014\u0001@\u0000\u0000\u0000P\u0001\u0001\u0011\u0001@E�e\u0000\u0001\u0011\u0010\u0000\u0000\u0000\u0000D\u0000\u0000\u0000\u0000DP\u0004@AT\u0014\u0014\u0004\u0001@\u0000E���A\u0000\u0011DP\u0014\u0015\u0018�E\u0000E\u0005\u0014\u0004I\u0016\u0006%*�XZ�j���A\u0000\u0010\u0004\u0000�AC\u0010\u0004c\u0005\u0005P\u0004�\u0004x\u0002ED\u0000\u0014\u0015\u0004A\u0014\u0000@\u0010\u0000@@\u0010\u0000\u0004\u0004\u0011\u0001�\f",
      "\u0015�\u0000\u0004@\u0000\u0000\u0000\u0000\u0001\u0000\u0001P\u0011E\u0005\u0000\u0010\u0014\u0001\u0011@P\u0000\u0004\u0011\u0000A@\u0001Q�P\b\u0004\u0000\u0000U\u0000A\u0010\u0010T\u0000\u0014\u0001\u0001T \u0005\u0000\u0001�\u0004\u0005@Q\u0000\u0010\u0000\u0005t\u0004\u0014P\u0014\u0000\u0010\u0001\u0010\u0005\u0010DD\u00104�\u0001\u0010\u0000�\u001ad�i)�`\u000e�R\u0013�\u0001\u0000\u0001\u0015\u0000\u0000\u0010\u0000@\u0004\u0010@\u0000 \u0015A\u0015iT\u0007\u0004f\u0001\u0011�X!@Y)U\u0004P\u0014\u0000\u0000\u0011A\u0000E\u0011\u0002\u0005A\u0010\"\u0000DT\u0010Q��\u0005 \u0015\u0010T\u0005@\u0010\u0000@\u0000\u0000A �@\u0004\u0012�\u0005\u0000@\u0000\u0017\u0011\u0004@@\u0001LP\u0010 \u0010\u0000\u0004�@\b3�\u00003�\u000f�?�\u0002,\u0003\u000f0\u0000�\u0000�<3;�?��\u0001\u0000QT\u0000V��ZVd\"���e����I�U�J\u0005*�h��VFY��IYf���Z�**�jiU\u0005b�f���������i�j�!\u0019\n"
     ]
    }
   ],
   "source": [
    "%%bash\n",
    "pd=\"/public/adna/student/data/\"\n",
    "head -n1 ${pd}data.geno"
   ]
  },
  {
   "cell_type": "code",
   "execution_count": 4,
   "metadata": {},
   "outputs": [
    {
     "name": "stdout",
     "output_type": "stream",
     "text": [
      "genotypename: data.geno\n",
      "snpname:      data.snp\n",
      "indivname:    data.ind\n",
      "outputformat:    EIGENSTRAT\n",
      "genooutfilename:   data.eigen.geno\n",
      "snpoutfilename:    data.eigen.snp\n",
      "indoutfilename:    data.eigen.ind\n"
     ]
    }
   ],
   "source": [
    "%%bash\n",
    "pd=\"/public/adna/student/data/\"\n",
    "cat ${pd}data.eigen.par"
   ]
  },
  {
   "cell_type": "markdown",
   "metadata": {},
   "source": [
    "In the IND file, the individual ID (must all be unique), sex, and population ID are given. \n",
    "\n",
    "In the SNP file, the SNP ID, chromosome, genetic position, physical position, first allele, and then second allele are provided. \n",
    "\n",
    "In the GENO file, each row is for one individual, so there should be as many rows as there are individual IDs and as many columns as there are SNPs. The options are 0,1,2 and 9, where 0,1,2 indicates zero, one or two of the first allele (and two, one, and zero of the second allele), while 9 indicates missing data. "
   ]
  },
  {
   "cell_type": "code",
   "execution_count": 5,
   "metadata": {},
   "outputs": [
    {
     "name": "stdout",
     "output_type": "stream",
     "text": [
      "IND File\n",
      "              SA1004 F    Khomani\n",
      "               SA063 F    Khomani\n",
      "               SA010 F    Khomani\n",
      "               SA064 M    Khomani\n",
      "               SA073 F    Khomani\n",
      "              SA1025 F    Khomani\n",
      "               SA078 F    Khomani\n",
      "               SA083 F    Khomani\n",
      "             Yuk_009 M    Yukagir\n",
      "             Yuk_025 F    Yukagir\n",
      "\n",
      "SNP file\n",
      "       Affx-13943225     1        0.020130          752566 G A\n",
      "       Affx-15485777     1        0.024457          903426 C T\n",
      "       Affx-15871758     1        0.025727          949654 A G\n",
      "        Affx-3942202     1        0.026288         1018704 A G\n",
      "        Affx-3979904     1        0.026674         1048955 A G\n",
      "        Affx-3995844     1        0.026711         1061166 T C\n",
      "        Affx-4055225     1        0.028311         1108637 G A\n",
      "        Affx-4572154     1        0.029335         1156131 T C\n",
      "        Affx-4575207     1        0.029356         1157547 T C\n",
      "        Affx-4576587     1        0.029367         1158277 G A\n",
      "\n",
      "GENO file\n",
      "1111011001011001211102210110120212200100011020000000110010002000010110110001110000191111101001110020011011100011100001101101021011001000111000001010010110000001001210010110119100011110201101111000100001100111101000201012912100101100100010001010000000000110011111021121222212122211100000111100010100019000010000010100000001100001910100001002010011011110000111001101000022010911011000211000911110101100000100000000110000001101190101000100111000000000000011000019011000011010000200001000011000011000000001000010000000091000000000000110000011000000001001210001010002001011000000001001011111102222220111211202221121121120001001001000000100000000001210110101000010001000000000100911111111021222210000000000110000001011000000000100000011000000100020200000200100110000001220000110000110000000000000001100000100010101000110001011201012110000000101010100000000000000000010100000000000000000101011000010100010011110011001100010000110000000101122112999999010010000010110101100011001110120201010110000101100110110001010210112001202110222210111201122222112222222222121211001000001000010000020001001100901000010120900110011110000102010001019200002101110100000011001110010100101100000100001000000100010000100000000100010010100019000009001112000000000101000000000000000000000010000000111000101101100110000010001100001010110001100000000100101000010011000000111012002110000200010000000001111000010010100010011100000011000010001111002000011000000012100001000111000110100000100000000111910001001101100011000000100000101000011010010101010010009102090000101000000211201221210222012210221200012000092220011020109210000010000000101110000000001000000100000100100100000000200011110010111122111100019001012120001010120101120020110001121022111110010110001100000000001011001000010110101000200111001010002020000101011100100110121092100001102000111010011100011100001000000100000000000100102002101100000100102201000110000100000000119010100101000100000011090110001000200010000000010290110000020090999990000090929000099909009999009000202900009009909000000920029000000909909900909092990990999909099990001000\n"
     ]
    }
   ],
   "source": [
    "%%bash\n",
    "pd=\"/public/adna/student/data/\"\n",
    "\n",
    "echo \"IND File\"\n",
    "head ${pd}data.eigen.ind\n",
    "echo \"\"\n",
    "echo \"SNP file\"\n",
    "head ${pd}data.eigen.snp\n",
    "echo \"\"\n",
    "echo \"GENO file\"\n",
    "head -n1 ${pd}data.eigen.geno"
   ]
  },
  {
   "cell_type": "markdown",
   "metadata": {
    "collapsed": true
   },
   "source": [
    "Can you list the genotypes at the first five SNPs of the SA1004 individual?"
   ]
  },
  {
   "cell_type": "code",
   "execution_count": null,
   "metadata": {},
   "outputs": [],
   "source": []
  }
 ],
 "metadata": {
  "kernelspec": {
   "display_name": "Python 2",
   "language": "python",
   "name": "python2"
  },
  "language_info": {
   "codemirror_mode": {
    "name": "ipython",
    "version": 2
   },
   "file_extension": ".py",
   "mimetype": "text/x-python",
   "name": "python",
   "nbconvert_exporter": "python",
   "pygments_lexer": "ipython2",
   "version": "2.7.13"
  }
 },
 "nbformat": 4,
 "nbformat_minor": 2
}
